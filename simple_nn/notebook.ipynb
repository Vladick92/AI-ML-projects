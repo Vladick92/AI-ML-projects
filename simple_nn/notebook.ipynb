{
 "cells": [
  {
   "cell_type": "markdown",
   "metadata": {},
   "source": [
    "### Generating data"
   ]
  },
  {
   "cell_type": "code",
   "execution_count": 1,
   "metadata": {},
   "outputs": [],
   "source": [
    "import torch\n",
    "from torch import nn\n",
    "from sklearn.datasets import make_regression\n",
    "from sklearn.model_selection import train_test_split"
   ]
  },
  {
   "cell_type": "code",
   "execution_count": 2,
   "metadata": {},
   "outputs": [],
   "source": [
    "x,y=make_regression(n_samples=500,n_features=8,noise=0.2,random_state=42)\n",
    "x_train,x_test,y_train,y_test=train_test_split(x,y,test_size=0.2,random_state=42)\n",
    "x_train=torch.from_numpy(x_train).type(torch.float32)\n",
    "x_test=torch.from_numpy(x_test).type(torch.float32)\n",
    "y_train=torch.from_numpy(y_train).type(torch.float32)\n",
    "y_test=torch.from_numpy(y_test).type(torch.float32)"
   ]
  },
  {
   "cell_type": "markdown",
   "metadata": {},
   "source": [
    "### Model building"
   ]
  },
  {
   "cell_type": "code",
   "execution_count": 3,
   "metadata": {},
   "outputs": [],
   "source": [
    "class simple_nn(nn.Module):\n",
    "    def __init__(self):\n",
    "        super().__init__()\n",
    "        self.weights=nn.Parameter(torch.zeros(x.shape[1],dtype=torch.float32),requires_grad=True)\n",
    "        self.bias=nn.Parameter(torch.zeros(1,dtype=torch.float32),requires_grad=True)\n",
    "    def forward(self,x):\n",
    "        return torch.matmul(x,self.weights)+self.bias\n",
    "model=simple_nn()\n",
    "loss_fn=nn.MSELoss()\n",
    "optimizer=torch.optim.SGD(lr=0.01,params=model.parameters())"
   ]
  },
  {
   "cell_type": "code",
   "execution_count": 4,
   "metadata": {},
   "outputs": [
    {
     "name": "stdout",
     "output_type": "stream",
     "text": [
      "| Epoch\" 0 | loss:22253.3867| \n",
      "| Epoch\" 50 | loss:3170.3982| \n",
      "| Epoch\" 100 | loss:465.1332| \n",
      "| Epoch\" 150 | loss:70.6988| \n",
      "| Epoch\" 200 | loss:11.2241| \n",
      "| Epoch\" 250 | loss:1.8929| \n",
      "| Epoch\" 300 | loss:0.3611| \n",
      "| Epoch\" 350 | loss:0.0971| \n",
      "| Epoch\" 400 | loss:0.0493| \n",
      "| Epoch\" 450 | loss:0.0402| \n",
      "| Epoch\" 500 | loss:0.0384| \n",
      "| Epoch\" 550 | loss:0.0381| \n"
     ]
    }
   ],
   "source": [
    "epochs=600\n",
    "for epoch in range(epochs):\n",
    "    model.train()\n",
    "    pred=model(x_train)\n",
    "    loss=loss_fn(pred,y_train)\n",
    "    optimizer.zero_grad()\n",
    "    loss.backward()\n",
    "    optimizer.step()\n",
    "\n",
    "    if epoch%50==0:\n",
    "        print(f'| Epoch\" {epoch} | loss:{loss:.4f}| ')"
   ]
  },
  {
   "cell_type": "code",
   "execution_count": 5,
   "metadata": {},
   "outputs": [
    {
     "data": {
      "text/plain": [
       "OrderedDict([('weights',\n",
       "              tensor([42.9025,  8.5429, 48.3477, 48.5011, 97.2438, 51.8062, 61.4017, 23.6586])),\n",
       "             ('bias', tensor([-0.0064]))])"
      ]
     },
     "execution_count": 5,
     "metadata": {},
     "output_type": "execute_result"
    }
   ],
   "source": [
    "model.state_dict()"
   ]
  },
  {
   "cell_type": "markdown",
   "metadata": {},
   "source": [
    "### Model evaluating"
   ]
  },
  {
   "cell_type": "code",
   "execution_count": 6,
   "metadata": {},
   "outputs": [
    {
     "name": "stdout",
     "output_type": "stream",
     "text": [
      "MSE: 0.04199009092178258\n",
      "MAE: 0.15942148089408875\n",
      "Loss: 0.041990090161561966\n"
     ]
    }
   ],
   "source": [
    "from sklearn.metrics import mean_absolute_error,mean_squared_error\n",
    "\n",
    "model.eval()\n",
    "with torch.inference_mode():\n",
    "    pred=model(x_test)\n",
    "\n",
    "print(f'MSE: {mean_squared_error(pred,y_test)}')\n",
    "print(f'MAE: {mean_absolute_error(pred,y_test)}')\n",
    "print(f'Loss: {loss_fn(pred,y_test)}')"
   ]
  },
  {
   "cell_type": "code",
   "execution_count": null,
   "metadata": {},
   "outputs": [],
   "source": []
  }
 ],
 "metadata": {
  "kernelspec": {
   "display_name": "ml_kernel",
   "language": "python",
   "name": "env"
  },
  "language_info": {
   "codemirror_mode": {
    "name": "ipython",
    "version": 3
   },
   "file_extension": ".py",
   "mimetype": "text/x-python",
   "name": "python",
   "nbconvert_exporter": "python",
   "pygments_lexer": "ipython3",
   "version": "3.12.3"
  }
 },
 "nbformat": 4,
 "nbformat_minor": 2
}
