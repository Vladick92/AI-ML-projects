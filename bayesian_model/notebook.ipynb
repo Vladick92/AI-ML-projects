{
 "cells": [
  {
   "cell_type": "markdown",
   "id": "2b660a6f",
   "metadata": {},
   "source": [
    "# Data preparation"
   ]
  },
  {
   "cell_type": "code",
   "execution_count": 1,
   "id": "bd659ad1",
   "metadata": {},
   "outputs": [
    {
     "data": {
      "text/html": [
       "<div>\n",
       "<style scoped>\n",
       "    .dataframe tbody tr th:only-of-type {\n",
       "        vertical-align: middle;\n",
       "    }\n",
       "\n",
       "    .dataframe tbody tr th {\n",
       "        vertical-align: top;\n",
       "    }\n",
       "\n",
       "    .dataframe thead th {\n",
       "        text-align: right;\n",
       "    }\n",
       "</style>\n",
       "<table border=\"1\" class=\"dataframe\">\n",
       "  <thead>\n",
       "    <tr style=\"text-align: right;\">\n",
       "      <th></th>\n",
       "      <th>Soil_Type</th>\n",
       "      <th>Sunlight_Hours</th>\n",
       "      <th>Water_Frequency</th>\n",
       "      <th>Fertilizer_Type</th>\n",
       "      <th>Temperature</th>\n",
       "      <th>Humidity</th>\n",
       "      <th>Growth_Milestone</th>\n",
       "    </tr>\n",
       "  </thead>\n",
       "  <tbody>\n",
       "    <tr>\n",
       "      <th>0</th>\n",
       "      <td>loam</td>\n",
       "      <td>5.192294</td>\n",
       "      <td>bi-weekly</td>\n",
       "      <td>chemical</td>\n",
       "      <td>31.719602</td>\n",
       "      <td>61.591861</td>\n",
       "      <td>0</td>\n",
       "    </tr>\n",
       "    <tr>\n",
       "      <th>1</th>\n",
       "      <td>sandy</td>\n",
       "      <td>4.033133</td>\n",
       "      <td>weekly</td>\n",
       "      <td>organic</td>\n",
       "      <td>28.919484</td>\n",
       "      <td>52.422276</td>\n",
       "      <td>1</td>\n",
       "    </tr>\n",
       "    <tr>\n",
       "      <th>2</th>\n",
       "      <td>loam</td>\n",
       "      <td>8.892769</td>\n",
       "      <td>bi-weekly</td>\n",
       "      <td>none</td>\n",
       "      <td>23.179059</td>\n",
       "      <td>44.660539</td>\n",
       "      <td>0</td>\n",
       "    </tr>\n",
       "    <tr>\n",
       "      <th>3</th>\n",
       "      <td>loam</td>\n",
       "      <td>8.241144</td>\n",
       "      <td>bi-weekly</td>\n",
       "      <td>none</td>\n",
       "      <td>18.465886</td>\n",
       "      <td>46.433227</td>\n",
       "      <td>0</td>\n",
       "    </tr>\n",
       "    <tr>\n",
       "      <th>4</th>\n",
       "      <td>sandy</td>\n",
       "      <td>8.374043</td>\n",
       "      <td>bi-weekly</td>\n",
       "      <td>organic</td>\n",
       "      <td>18.128741</td>\n",
       "      <td>63.625923</td>\n",
       "      <td>0</td>\n",
       "    </tr>\n",
       "    <tr>\n",
       "      <th>...</th>\n",
       "      <td>...</td>\n",
       "      <td>...</td>\n",
       "      <td>...</td>\n",
       "      <td>...</td>\n",
       "      <td>...</td>\n",
       "      <td>...</td>\n",
       "      <td>...</td>\n",
       "    </tr>\n",
       "    <tr>\n",
       "      <th>188</th>\n",
       "      <td>sandy</td>\n",
       "      <td>5.652000</td>\n",
       "      <td>daily</td>\n",
       "      <td>none</td>\n",
       "      <td>28.000000</td>\n",
       "      <td>70.200000</td>\n",
       "      <td>0</td>\n",
       "    </tr>\n",
       "    <tr>\n",
       "      <th>189</th>\n",
       "      <td>clay</td>\n",
       "      <td>7.528000</td>\n",
       "      <td>weekly</td>\n",
       "      <td>chemical</td>\n",
       "      <td>30.500000</td>\n",
       "      <td>60.100000</td>\n",
       "      <td>1</td>\n",
       "    </tr>\n",
       "    <tr>\n",
       "      <th>190</th>\n",
       "      <td>loam</td>\n",
       "      <td>4.934000</td>\n",
       "      <td>bi-weekly</td>\n",
       "      <td>none</td>\n",
       "      <td>24.500000</td>\n",
       "      <td>61.700000</td>\n",
       "      <td>0</td>\n",
       "    </tr>\n",
       "    <tr>\n",
       "      <th>191</th>\n",
       "      <td>sandy</td>\n",
       "      <td>8.273000</td>\n",
       "      <td>daily</td>\n",
       "      <td>organic</td>\n",
       "      <td>27.900000</td>\n",
       "      <td>69.500000</td>\n",
       "      <td>1</td>\n",
       "    </tr>\n",
       "    <tr>\n",
       "      <th>192</th>\n",
       "      <td>clay</td>\n",
       "      <td>6.732000</td>\n",
       "      <td>weekly</td>\n",
       "      <td>none</td>\n",
       "      <td>21.700000</td>\n",
       "      <td>56.900000</td>\n",
       "      <td>0</td>\n",
       "    </tr>\n",
       "  </tbody>\n",
       "</table>\n",
       "<p>193 rows × 7 columns</p>\n",
       "</div>"
      ],
      "text/plain": [
       "    Soil_Type  Sunlight_Hours Water_Frequency Fertilizer_Type  Temperature  \\\n",
       "0        loam        5.192294       bi-weekly        chemical    31.719602   \n",
       "1       sandy        4.033133          weekly         organic    28.919484   \n",
       "2        loam        8.892769       bi-weekly            none    23.179059   \n",
       "3        loam        8.241144       bi-weekly            none    18.465886   \n",
       "4       sandy        8.374043       bi-weekly         organic    18.128741   \n",
       "..        ...             ...             ...             ...          ...   \n",
       "188     sandy        5.652000           daily            none    28.000000   \n",
       "189      clay        7.528000          weekly        chemical    30.500000   \n",
       "190      loam        4.934000       bi-weekly            none    24.500000   \n",
       "191     sandy        8.273000           daily         organic    27.900000   \n",
       "192      clay        6.732000          weekly            none    21.700000   \n",
       "\n",
       "      Humidity  Growth_Milestone  \n",
       "0    61.591861                 0  \n",
       "1    52.422276                 1  \n",
       "2    44.660539                 0  \n",
       "3    46.433227                 0  \n",
       "4    63.625923                 0  \n",
       "..         ...               ...  \n",
       "188  70.200000                 0  \n",
       "189  60.100000                 1  \n",
       "190  61.700000                 0  \n",
       "191  69.500000                 1  \n",
       "192  56.900000                 0  \n",
       "\n",
       "[193 rows x 7 columns]"
      ]
     },
     "execution_count": 1,
     "metadata": {},
     "output_type": "execute_result"
    }
   ],
   "source": [
    "import pandas as pd\n",
    "df=pd.read_csv('./plant_growth_data.csv')\n",
    "df"
   ]
  },
  {
   "cell_type": "markdown",
   "id": "5bcd6d33",
   "metadata": {},
   "source": [
    "### Missing values"
   ]
  },
  {
   "cell_type": "code",
   "execution_count": 2,
   "id": "b52815de",
   "metadata": {},
   "outputs": [
    {
     "name": "stdout",
     "output_type": "stream",
     "text": [
      "Soil_Type           0\n",
      "Sunlight_Hours      0\n",
      "Water_Frequency     0\n",
      "Fertilizer_Type     0\n",
      "Temperature         0\n",
      "Humidity            0\n",
      "Growth_Milestone    0\n",
      "dtype: int64\n"
     ]
    }
   ],
   "source": [
    "print(df.isnull().sum())"
   ]
  },
  {
   "cell_type": "markdown",
   "id": "a7843233",
   "metadata": {},
   "source": [
    "There is no missing values"
   ]
  },
  {
   "cell_type": "markdown",
   "id": "8ecaf881",
   "metadata": {},
   "source": [
    "### Feature disctetizing"
   ]
  },
  {
   "cell_type": "code",
   "execution_count": 3,
   "id": "9741f944",
   "metadata": {},
   "outputs": [
    {
     "data": {
      "text/plain": [
       "Soil_Type             3\n",
       "Sunlight_Hours      190\n",
       "Water_Frequency       3\n",
       "Fertilizer_Type       3\n",
       "Temperature         189\n",
       "Humidity            191\n",
       "Growth_Milestone      2\n",
       "dtype: int64"
      ]
     },
     "execution_count": 3,
     "metadata": {},
     "output_type": "execute_result"
    }
   ],
   "source": [
    "df.nunique()"
   ]
  },
  {
   "cell_type": "markdown",
   "id": "0d330230",
   "metadata": {},
   "source": [
    "Columns to discretize: \n",
    "* Sunlight_Hours\n",
    "* Humidity\n",
    "* Temperature"
   ]
  },
  {
   "cell_type": "code",
   "execution_count": 4,
   "id": "42371a4d",
   "metadata": {},
   "outputs": [
    {
     "data": {
      "text/html": [
       "<div>\n",
       "<style scoped>\n",
       "    .dataframe tbody tr th:only-of-type {\n",
       "        vertical-align: middle;\n",
       "    }\n",
       "\n",
       "    .dataframe tbody tr th {\n",
       "        vertical-align: top;\n",
       "    }\n",
       "\n",
       "    .dataframe thead th {\n",
       "        text-align: right;\n",
       "    }\n",
       "</style>\n",
       "<table border=\"1\" class=\"dataframe\">\n",
       "  <thead>\n",
       "    <tr style=\"text-align: right;\">\n",
       "      <th></th>\n",
       "      <th>Sunlight_Hours</th>\n",
       "      <th>Humidity</th>\n",
       "      <th>Temperature</th>\n",
       "    </tr>\n",
       "  </thead>\n",
       "  <tbody>\n",
       "    <tr>\n",
       "      <th>count</th>\n",
       "      <td>193.000000</td>\n",
       "      <td>193.000000</td>\n",
       "      <td>193.000000</td>\n",
       "    </tr>\n",
       "    <tr>\n",
       "      <th>mean</th>\n",
       "      <td>6.826484</td>\n",
       "      <td>58.098927</td>\n",
       "      <td>25.076087</td>\n",
       "    </tr>\n",
       "    <tr>\n",
       "      <th>std</th>\n",
       "      <td>1.599509</td>\n",
       "      <td>12.631799</td>\n",
       "      <td>5.354170</td>\n",
       "    </tr>\n",
       "    <tr>\n",
       "      <th>min</th>\n",
       "      <td>4.033133</td>\n",
       "      <td>30.567682</td>\n",
       "      <td>15.200000</td>\n",
       "    </tr>\n",
       "    <tr>\n",
       "      <th>25%</th>\n",
       "      <td>5.477000</td>\n",
       "      <td>49.300000</td>\n",
       "      <td>20.637095</td>\n",
       "    </tr>\n",
       "    <tr>\n",
       "      <th>50%</th>\n",
       "      <td>6.833290</td>\n",
       "      <td>59.182806</td>\n",
       "      <td>25.912336</td>\n",
       "    </tr>\n",
       "    <tr>\n",
       "      <th>75%</th>\n",
       "      <td>8.241144</td>\n",
       "      <td>69.100000</td>\n",
       "      <td>29.757938</td>\n",
       "    </tr>\n",
       "    <tr>\n",
       "      <th>max</th>\n",
       "      <td>9.913903</td>\n",
       "      <td>79.648240</td>\n",
       "      <td>34.810103</td>\n",
       "    </tr>\n",
       "  </tbody>\n",
       "</table>\n",
       "</div>"
      ],
      "text/plain": [
       "       Sunlight_Hours    Humidity  Temperature\n",
       "count      193.000000  193.000000   193.000000\n",
       "mean         6.826484   58.098927    25.076087\n",
       "std          1.599509   12.631799     5.354170\n",
       "min          4.033133   30.567682    15.200000\n",
       "25%          5.477000   49.300000    20.637095\n",
       "50%          6.833290   59.182806    25.912336\n",
       "75%          8.241144   69.100000    29.757938\n",
       "max          9.913903   79.648240    34.810103"
      ]
     },
     "execution_count": 4,
     "metadata": {},
     "output_type": "execute_result"
    }
   ],
   "source": [
    "df[['Sunlight_Hours','Humidity','Temperature']].describe()"
   ]
  },
  {
   "cell_type": "code",
   "execution_count": 5,
   "id": "44794459",
   "metadata": {},
   "outputs": [],
   "source": [
    "df['Sunlight_Hours']=pd.cut(df['Sunlight_Hours'],bins=4,labels=['dark','moderate','sunny','bright'])\n",
    "df['Humidity']=pd.cut(df['Humidity'],bins=5,labels=['low_moist','avg_moist','moist','high_moist','humid'])\n",
    "df['Temperature']=pd.cut(df['Temperature'],bins=3,labels=['cold','norm','hot'])"
   ]
  },
  {
   "cell_type": "code",
   "execution_count": 6,
   "id": "7dca2d72",
   "metadata": {},
   "outputs": [
    {
     "data": {
      "text/html": [
       "<div>\n",
       "<style scoped>\n",
       "    .dataframe tbody tr th:only-of-type {\n",
       "        vertical-align: middle;\n",
       "    }\n",
       "\n",
       "    .dataframe tbody tr th {\n",
       "        vertical-align: top;\n",
       "    }\n",
       "\n",
       "    .dataframe thead th {\n",
       "        text-align: right;\n",
       "    }\n",
       "</style>\n",
       "<table border=\"1\" class=\"dataframe\">\n",
       "  <thead>\n",
       "    <tr style=\"text-align: right;\">\n",
       "      <th></th>\n",
       "      <th>Soil_Type</th>\n",
       "      <th>Sunlight_Hours</th>\n",
       "      <th>Water_Frequency</th>\n",
       "      <th>Fertilizer_Type</th>\n",
       "      <th>Temperature</th>\n",
       "      <th>Humidity</th>\n",
       "      <th>Growth_Milestone</th>\n",
       "    </tr>\n",
       "  </thead>\n",
       "  <tbody>\n",
       "    <tr>\n",
       "      <th>0</th>\n",
       "      <td>loam</td>\n",
       "      <td>dark</td>\n",
       "      <td>bi-weekly</td>\n",
       "      <td>chemical</td>\n",
       "      <td>hot</td>\n",
       "      <td>high_moist</td>\n",
       "      <td>0</td>\n",
       "    </tr>\n",
       "    <tr>\n",
       "      <th>1</th>\n",
       "      <td>sandy</td>\n",
       "      <td>dark</td>\n",
       "      <td>weekly</td>\n",
       "      <td>organic</td>\n",
       "      <td>hot</td>\n",
       "      <td>moist</td>\n",
       "      <td>1</td>\n",
       "    </tr>\n",
       "    <tr>\n",
       "      <th>2</th>\n",
       "      <td>loam</td>\n",
       "      <td>bright</td>\n",
       "      <td>bi-weekly</td>\n",
       "      <td>none</td>\n",
       "      <td>norm</td>\n",
       "      <td>avg_moist</td>\n",
       "      <td>0</td>\n",
       "    </tr>\n",
       "    <tr>\n",
       "      <th>3</th>\n",
       "      <td>loam</td>\n",
       "      <td>sunny</td>\n",
       "      <td>bi-weekly</td>\n",
       "      <td>none</td>\n",
       "      <td>cold</td>\n",
       "      <td>avg_moist</td>\n",
       "      <td>0</td>\n",
       "    </tr>\n",
       "    <tr>\n",
       "      <th>4</th>\n",
       "      <td>sandy</td>\n",
       "      <td>sunny</td>\n",
       "      <td>bi-weekly</td>\n",
       "      <td>organic</td>\n",
       "      <td>cold</td>\n",
       "      <td>high_moist</td>\n",
       "      <td>0</td>\n",
       "    </tr>\n",
       "  </tbody>\n",
       "</table>\n",
       "</div>"
      ],
      "text/plain": [
       "  Soil_Type Sunlight_Hours Water_Frequency Fertilizer_Type Temperature  \\\n",
       "0      loam           dark       bi-weekly        chemical         hot   \n",
       "1     sandy           dark          weekly         organic         hot   \n",
       "2      loam         bright       bi-weekly            none        norm   \n",
       "3      loam          sunny       bi-weekly            none        cold   \n",
       "4     sandy          sunny       bi-weekly         organic        cold   \n",
       "\n",
       "     Humidity  Growth_Milestone  \n",
       "0  high_moist                 0  \n",
       "1       moist                 1  \n",
       "2   avg_moist                 0  \n",
       "3   avg_moist                 0  \n",
       "4  high_moist                 0  "
      ]
     },
     "execution_count": 6,
     "metadata": {},
     "output_type": "execute_result"
    }
   ],
   "source": [
    "df.head()"
   ]
  },
  {
   "cell_type": "markdown",
   "id": "338a7b0e",
   "metadata": {},
   "source": [
    "# Model building "
   ]
  },
  {
   "cell_type": "code",
   "execution_count": 7,
   "id": "9aafb29a",
   "metadata": {},
   "outputs": [],
   "source": [
    "from pgmpy.models import DiscreteBayesianNetwork\n",
    "\n",
    "model = DiscreteBayesianNetwork([\n",
    "    (\"Soil_Type\", \"Growth_Milestone\"),\n",
    "    (\"Sunlight_Hours\", \"Growth_Milestone\"),\n",
    "    (\"Water_Frequency\", \"Growth_Milestone\"),\n",
    "    (\"Fertilizer_Type\", \"Growth_Milestone\"),\n",
    "    (\"Temperature\", \"Growth_Milestone\"),\n",
    "    (\"Humidity\", \"Growth_Milestone\"),\n",
    "])\n"
   ]
  },
  {
   "cell_type": "code",
   "execution_count": 8,
   "id": "24092546",
   "metadata": {},
   "outputs": [
    {
     "name": "stderr",
     "output_type": "stream",
     "text": [
      "INFO:pgmpy: Datatype (N=numerical, C=Categorical Unordered, O=Categorical Ordered) inferred from data: \n",
      " {'Soil_Type': 'C', 'Sunlight_Hours': 'O', 'Water_Frequency': 'C', 'Fertilizer_Type': 'C', 'Temperature': 'O', 'Humidity': 'O', 'Growth_Milestone': 'N'}\n"
     ]
    },
    {
     "data": {
      "text/plain": [
       "<pgmpy.models.DiscreteBayesianNetwork.DiscreteBayesianNetwork at 0x7ceb701700b0>"
      ]
     },
     "execution_count": 8,
     "metadata": {},
     "output_type": "execute_result"
    }
   ],
   "source": [
    "from pgmpy.estimators import MaximumLikelihoodEstimator\n",
    "model.fit(df, estimator=MaximumLikelihoodEstimator)"
   ]
  },
  {
   "cell_type": "code",
   "execution_count": 10,
   "id": "6268fbce",
   "metadata": {},
   "outputs": [
    {
     "name": "stdout",
     "output_type": "stream",
     "text": [
      "+---------------------+-------------------------+\n",
      "| Growth_Milestone    |   phi(Growth_Milestone) |\n",
      "+=====================+=========================+\n",
      "| Growth_Milestone(0) |                  0.5217 |\n",
      "+---------------------+-------------------------+\n",
      "| Growth_Milestone(1) |                  0.4783 |\n",
      "+---------------------+-------------------------+\n"
     ]
    }
   ],
   "source": [
    "from pgmpy.inference import VariableElimination\n",
    "inference = VariableElimination(model)\n",
    "query_result = inference.query(\n",
    "    variables=[\"Growth_Milestone\"],\n",
    "    evidence={\n",
    "        \"Soil_Type\": 'loam',\n",
    "        \"Water_Frequency\": 'weekly',\n",
    "        \"Fertilizer_Type\": 'chemical'\n",
    "    }\n",
    ")\n",
    "print(query_result)\n"
   ]
  },
  {
   "cell_type": "code",
   "execution_count": 11,
   "id": "9c7e312a",
   "metadata": {},
   "outputs": [
    {
     "name": "stdout",
     "output_type": "stream",
     "text": [
      "Nodes: ['Soil_Type', 'Growth_Milestone', 'Sunlight_Hours', 'Water_Frequency', 'Fertilizer_Type', 'Temperature', 'Humidity']\n",
      "Edges: [('Soil_Type', 'Growth_Milestone'), ('Sunlight_Hours', 'Growth_Milestone'), ('Water_Frequency', 'Growth_Milestone'), ('Fertilizer_Type', 'Growth_Milestone'), ('Temperature', 'Growth_Milestone'), ('Humidity', 'Growth_Milestone')]\n"
     ]
    }
   ],
   "source": [
    "print(\"Nodes:\", list(model.nodes()))\n",
    "print(\"Edges:\", list(model.edges()))"
   ]
  },
  {
   "cell_type": "code",
   "execution_count": 12,
   "id": "d908c19f",
   "metadata": {},
   "outputs": [
    {
     "data": {
      "image/png": "[encoded data removed]",
      "text/plain": [
       "<Figure size 640x480 with 1 Axes>"
      ]
     },
     "metadata": {},
     "output_type": "display_data"
    }
   ],
   "source": [
    "import matplotlib.pyplot as plt\n",
    "import networkx as nx\n",
    "G = nx.DiGraph()\n",
    "G.add_nodes_from(model.nodes())\n",
    "G.add_edges_from(model.edges())\n",
    "pos = nx.spring_layout(G)\n",
    "nx.draw(\n",
    "    G,\n",
    "    pos,\n",
    "    with_labels=True,\n",
    "    node_size=2000,\n",
    "    node_color='lightblue',\n",
    "    font_size=10,\n",
    "    arrows=False\n",
    ")\n",
    "plt.title(\"Bayesian Network Structure\")\n",
    "plt.show()\n"
   ]
  },
  {
   "cell_type": "code",
   "execution_count": null,
   "id": "fbbc9762",
   "metadata": {},
   "outputs": [],
   "source": []
  }
 ],
 "metadata": {
  "kernelspec": {
   "display_name": "ml_kernel",
   "language": "python",
   "name": "env"
  },
  "language_info": {
   "codemirror_mode": {
    "name": "ipython",
    "version": 3
   },
   "file_extension": ".py",
   "mimetype": "text/x-python",
   "name": "python",
   "nbconvert_exporter": "python",
   "pygments_lexer": "ipython3",
   "version": "3.12.3"
  }
 },
 "nbformat": 4,
 "nbformat_minor": 5
}
