{
 "cells": [
  {
   "cell_type": "code",
   "execution_count": 6,
   "id": "c083a598",
   "metadata": {},
   "outputs": [
    {
     "name": "stderr",
     "output_type": "stream",
     "text": [
      "[nltk_data] Downloading package punkt_tab to\n",
      "[nltk_data]     /home/computer/nltk_data...\n",
      "[nltk_data]   Package punkt_tab is already up-to-date!\n",
      "[nltk_data] Downloading package stopwords to\n",
      "[nltk_data]     /home/computer/nltk_data...\n",
      "[nltk_data]   Package stopwords is already up-to-date!\n"
     ]
    },
    {
     "data": {
      "text/plain": [
       "True"
      ]
     },
     "execution_count": 6,
     "metadata": {},
     "output_type": "execute_result"
    }
   ],
   "source": [
    "import nltk\n",
    "from nltk.corpus import stopwords\n",
    "from nltk.tokenize import word_tokenize\n",
    "from gensim.models import Word2Vec\n",
    "from sklearn.metrics.pairwise import cosine_similarity\n",
    "import numpy as np\n",
    "nltk.download('punkt_tab')\n",
    "nltk.download('stopwords')"
   ]
  },
  {
   "cell_type": "code",
   "execution_count": 7,
   "id": "548d89e2",
   "metadata": {},
   "outputs": [],
   "source": [
    "text = \"\"\"\n",
    "Machine learning (ML) is a field of study in artificial intelligence concerned with the \n",
    "development and study of statistical algorithms that can learn from data and generalise \n",
    "to unseen data, and thus perform tasks without explicit instructions. Within a subdiscipline \n",
    "in machine learning, advances in the field of deep learning have allowed neural networks, a \n",
    "class of statistical algorithms, to surpass many previous machine learning approaches in \n",
    "performance.ML finds application in many fields, including natural language processing, \n",
    "computer vision, speech recognition, email filtering, agriculture, and medicine. The \n",
    "application of ML to business problems is known as predictive analytics. Statistics and \n",
    "mathematical optimisation (mathematical programming) methods comprise the foundations of \n",
    "machine learning. Data mining is a related field of study, focusing on exploratory data \n",
    "analysis (EDA) via unsupervised learning. From a theoretical viewpoint, probably \n",
    "approximately correct learning provides a framework for describing machine learning. \n",
    "\"\"\""
   ]
  },
  {
   "cell_type": "markdown",
   "id": "39ff9d58",
   "metadata": {},
   "source": [
    "## Deleting stopwords and splitting into tokens"
   ]
  },
  {
   "cell_type": "code",
   "execution_count": 8,
   "id": "eb1598fe",
   "metadata": {},
   "outputs": [],
   "source": [
    "tokens = word_tokenize(text.lower())\n",
    "stop_words = set(stopwords.words('english'))\n",
    "filtered_tokens = [word for word in tokens if word.isalpha() and word not in stop_words]\n",
    "sentences = [filtered_tokens]"
   ]
  },
  {
   "cell_type": "code",
   "execution_count": 9,
   "id": "3e18b33b",
   "metadata": {},
   "outputs": [
    {
     "data": {
      "text/plain": [
       "[['machine',\n",
       "  'learning',\n",
       "  'ml',\n",
       "  'field',\n",
       "  'study',\n",
       "  'artificial',\n",
       "  'intelligence',\n",
       "  'concerned',\n",
       "  'development',\n",
       "  'study',\n",
       "  'statistical',\n",
       "  'algorithms',\n",
       "  'learn',\n",
       "  'data',\n",
       "  'generalise',\n",
       "  'unseen',\n",
       "  'data',\n",
       "  'thus',\n",
       "  'perform',\n",
       "  'tasks',\n",
       "  'without',\n",
       "  'explicit',\n",
       "  'instructions',\n",
       "  'within',\n",
       "  'subdiscipline',\n",
       "  'machine',\n",
       "  'learning',\n",
       "  'advances',\n",
       "  'field',\n",
       "  'deep',\n",
       "  'learning',\n",
       "  'allowed',\n",
       "  'neural',\n",
       "  'networks',\n",
       "  'class',\n",
       "  'statistical',\n",
       "  'algorithms',\n",
       "  'surpass',\n",
       "  'many',\n",
       "  'previous',\n",
       "  'machine',\n",
       "  'learning',\n",
       "  'approaches',\n",
       "  'finds',\n",
       "  'application',\n",
       "  'many',\n",
       "  'fields',\n",
       "  'including',\n",
       "  'natural',\n",
       "  'language',\n",
       "  'processing',\n",
       "  'computer',\n",
       "  'vision',\n",
       "  'speech',\n",
       "  'recognition',\n",
       "  'email',\n",
       "  'filtering',\n",
       "  'agriculture',\n",
       "  'medicine',\n",
       "  'application',\n",
       "  'ml',\n",
       "  'business',\n",
       "  'problems',\n",
       "  'known',\n",
       "  'predictive',\n",
       "  'analytics',\n",
       "  'statistics',\n",
       "  'mathematical',\n",
       "  'optimisation',\n",
       "  'mathematical',\n",
       "  'programming',\n",
       "  'methods',\n",
       "  'comprise',\n",
       "  'foundations',\n",
       "  'machine',\n",
       "  'learning',\n",
       "  'data',\n",
       "  'mining',\n",
       "  'related',\n",
       "  'field',\n",
       "  'study',\n",
       "  'focusing',\n",
       "  'exploratory',\n",
       "  'data',\n",
       "  'analysis',\n",
       "  'eda',\n",
       "  'via',\n",
       "  'unsupervised',\n",
       "  'learning',\n",
       "  'theoretical',\n",
       "  'viewpoint',\n",
       "  'probably',\n",
       "  'approximately',\n",
       "  'correct',\n",
       "  'learning',\n",
       "  'provides',\n",
       "  'framework',\n",
       "  'describing',\n",
       "  'machine',\n",
       "  'learning']]"
      ]
     },
     "execution_count": 9,
     "metadata": {},
     "output_type": "execute_result"
    }
   ],
   "source": [
    "sentences"
   ]
  },
  {
   "cell_type": "markdown",
   "id": "89731342",
   "metadata": {},
   "source": [
    "## Calculating vector interpretaion of word"
   ]
  },
  {
   "cell_type": "code",
   "execution_count": 10,
   "id": "211d5f2b",
   "metadata": {},
   "outputs": [
    {
     "name": "stdout",
     "output_type": "stream",
     "text": [
      "Vector for word 'machine' [-0.01631425  0.00901535 -0.00825099  0.00163533  0.01693982 -0.00895738\n",
      "  0.00903409 -0.01351188 -0.00708498  0.01874771 -0.00311883  0.00058286\n",
      " -0.0082069  -0.01532142 -0.00301444  0.00495449 -0.00174936  0.0110826\n",
      " -0.00553676  0.00450656  0.01092675  0.01672545 -0.0028462  -0.01842331\n",
      "  0.00877729  0.00115905  0.0148397  -0.00156889 -0.0052758  -0.01750296\n",
      " -0.00171949  0.00558985  0.0108261   0.01407385 -0.01143357  0.00371087\n",
      "  0.0122717  -0.00959388 -0.00622889  0.01357524  0.0032589   0.00038444\n",
      "  0.0069609   0.00037815  0.01927774  0.01006685 -0.01782489 -0.01407044\n",
      "  0.00182221  0.01281681]\n"
     ]
    }
   ],
   "source": [
    "model = Word2Vec(sentences, vector_size=50, window=5, min_count=1, workers=4)\n",
    "print(\"Vector for word 'machine'\", model.wv[\"machine\"])"
   ]
  },
  {
   "cell_type": "markdown",
   "id": "d6573873",
   "metadata": {},
   "source": [
    "## Calculating cosine similarity between words"
   ]
  },
  {
   "cell_type": "code",
   "execution_count": 15,
   "id": "22ed4fd2",
   "metadata": {},
   "outputs": [
    {
     "name": "stdout",
     "output_type": "stream",
     "text": [
      "Cosine similarity between words 'data' and 'learning': 0.1289\n"
     ]
    }
   ],
   "source": [
    "def cosine_sim(word1, word2):\n",
    "    vec1 = model.wv[word1].reshape(1, -1)\n",
    "    vec2 = model.wv[word2].reshape(1, -1)\n",
    "    similarity = cosine_similarity(vec1, vec2)[0][0]\n",
    "    return similarity\n",
    "\n",
    "word1 = \"data\"\n",
    "word2 = \"learning\"\n",
    "print(f\"Cosine similarity between words '{word1}' and '{word2}': {cosine_sim(word1, word2):.4f}\")\n"
   ]
  },
  {
   "cell_type": "markdown",
   "id": "fe161fa3",
   "metadata": {},
   "source": [
    "## Finding most similar words"
   ]
  },
  {
   "cell_type": "code",
   "execution_count": 23,
   "id": "4eac1aca",
   "metadata": {},
   "outputs": [
    {
     "name": "stdout",
     "output_type": "stream",
     "text": [
      "Most similar words to word 'language':\n",
      "business: 0.3415\n",
      "email: 0.3258\n",
      "artificial: 0.2512\n",
      "intelligence: 0.2487\n",
      "agriculture: 0.2033\n"
     ]
    }
   ],
   "source": [
    "similar_words = model.wv.most_similar(\"data\", topn=5)\n",
    "print(\"Most similar words to word 'language':\")\n",
    "for word, score in similar_words:\n",
    "    print(f\"{word}: {score:.4f}\")"
   ]
  }
 ],
 "metadata": {
  "kernelspec": {
   "display_name": "ml_kernel",
   "language": "python",
   "name": "env"
  },
  "language_info": {
   "codemirror_mode": {
    "name": "ipython",
    "version": 3
   },
   "file_extension": ".py",
   "mimetype": "text/x-python",
   "name": "python",
   "nbconvert_exporter": "python",
   "pygments_lexer": "ipython3",
   "version": "3.12.3"
  }
 },
 "nbformat": 4,
 "nbformat_minor": 5
}
